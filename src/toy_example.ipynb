{
 "cells": [
  {
   "cell_type": "markdown",
   "metadata": {},
   "source": [
    "## UATSAD: Toy Example Visualization \n",
    "In this notebook we will:\n",
    "- Getting Data\n",
    "- Training and Test\n",
    "- Predict and Plot"
   ]
  },
  {
   "cell_type": "code",
   "execution_count": 1,
   "metadata": {},
   "outputs": [],
   "source": [
    "%load_ext autoreload\n",
    "%autoreload 2"
   ]
  },
  {
   "cell_type": "code",
   "execution_count": null,
   "metadata": {},
   "outputs": [],
   "source": [
    "# Configure \n",
    "\n",
    "import torch\n",
    "from sklearn.preprocessing import MinMaxScaler, StandardScaler\n",
    "from model import AutoEncoder\n",
    "from dataloader import AESegLoader\n",
    "\n",
    "\n",
    "class Config:\n",
    "    # model\n",
    "    in_channel = 1\n",
    "    win_size = 64\n",
    "    latent_dim = 10\n",
    "    hidden_num_units = 64\n",
    "\n",
    "    n_epochs = 15\n",
    "    lr = 1e-3\n",
    "    batch_size = 32\n",
    "    device = torch.device('cuda' if torch.cuda.is_available() else 'cpu')\n",
    "\n",
    "config = Config()\n",
    "\n"
   ]
  },
  {
   "cell_type": "markdown",
   "metadata": {},
   "source": [
    "1. Get the data of different anomalies:\n",
    "- anomaly value = 10\n",
    "- anomaly value = 20\n",
    "- anomaly value = 30"
   ]
  },
  {
   "cell_type": "code",
   "execution_count": 5,
   "metadata": {},
   "outputs": [
    {
     "name": "stdout",
     "output_type": "stream",
     "text": [
      "(1000, 1)\n"
     ]
    }
   ],
   "source": [
    "\n",
    "import matplotlib.pyplot as plt\n",
    "import utils\n",
    "\n",
    "generator = utils.Synthetic_heteroscedasticData_generator(0.7, 2, 5, 10)\n",
    "\n",
    "data = generator.get_data(1000)\n",
    "\n",
    "y_tildes = data['y_tilde'].clone().detach()\n",
    "y_tildes_test = data['y_disturb_tilde'].clone().detach()\n",
    "\n",
    "scaler = StandardScaler()\n",
    "scaler.fit(y_tildes)\n",
    "y_tildes = scaler.transform(y_tildes)\n",
    "y_tildes_test = scaler.transform(y_tildes_test)\n",
    "ys = data['y'].clone().detach()\n",
    "\n",
    "print(y_tildes.shape)\n"
   ]
  },
  {
   "cell_type": "code",
   "execution_count": 6,
   "metadata": {},
   "outputs": [
    {
     "name": "stdout",
     "output_type": "stream",
     "text": [
      "(1000, 1)\n"
     ]
    }
   ],
   "source": [
    "\n",
    "import matplotlib.pyplot as plt\n",
    "import utils\n",
    "\n",
    "generator = utils.Synthetic_heteroscedasticData_generator(2, 2, 5, 20)\n",
    "data = generator.get_data(1000)\n",
    "\n",
    "y_tildes = data['y_tilde'].clone().detach()\n",
    "y_tildes_test = data['y_disturb_tilde'].clone().detach()\n",
    "\n",
    "scaler = StandardScaler()\n",
    "scaler.fit(y_tildes)\n",
    "y_tildes = scaler.transform(y_tildes)\n",
    "y_tildes_test = scaler.transform(y_tildes_test)\n",
    "ys = data['y'].clone().detach()\n",
    "\n",
    "print(y_tildes.shape)\n"
   ]
  },
  {
   "cell_type": "code",
   "execution_count": 7,
   "metadata": {},
   "outputs": [
    {
     "name": "stdout",
     "output_type": "stream",
     "text": [
      "(1000, 1)\n"
     ]
    }
   ],
   "source": [
    "\n",
    "import matplotlib.pyplot as plt\n",
    "import utils\n",
    "\n",
    "generator = utils.Synthetic_heteroscedasticData_generator(0.7, 2, 5, 30)\n",
    "data = generator.get_data(1000)\n",
    "\n",
    "y_tildes = data['y_tilde'].clone().detach()\n",
    "y_tildes_test = data['y_disturb_tilde'].clone().detach()\n",
    "\n",
    "scaler = StandardScaler()\n",
    "scaler.fit(y_tildes)\n",
    "y_tildes = scaler.transform(y_tildes)\n",
    "y_tildes_test = scaler.transform(y_tildes_test)\n",
    "ys = data['y'].clone().detach()\n",
    "\n",
    "print(y_tildes.shape)\n"
   ]
  },
  {
   "cell_type": "markdown",
   "metadata": {},
   "source": [
    "2. Training"
   ]
  },
  {
   "cell_type": "code",
   "execution_count": null,
   "metadata": {},
   "outputs": [
    {
     "name": "stdout",
     "output_type": "stream",
     "text": [
      "-------------- epoch: 0 ----------------\n",
      "     batch: 20, batch_loss: 185.76370239257812     \n",
      "     batch: 40, batch_loss: 126.29241180419922     \n",
      ">>>> Epoch: 0, train_loss: 147.26900942572232, valid_loss: 151.7215102623249<<<<\n",
      "-------------- epoch: 1 ----------------\n",
      "     batch: 20, batch_loss: 121.1464614868164     \n",
      "     batch: 40, batch_loss: 120.76513671875     \n",
      ">>>> Epoch: 1, train_loss: 121.23744425280341, valid_loss: 150.30708352450668<<<<\n",
      "-------------- epoch: 2 ----------------\n",
      "     batch: 20, batch_loss: 121.120849609375     \n",
      "     batch: 40, batch_loss: 121.78386688232422     \n",
      ">>>> Epoch: 2, train_loss: 120.99773827914534, valid_loss: 150.4422377224626<<<<\n",
      "-------------- epoch: 3 ----------------\n",
      "     batch: 20, batch_loss: 120.8885726928711     \n",
      "     batch: 40, batch_loss: 120.5103530883789     \n",
      ">>>> Epoch: 3, train_loss: 120.92108062217976, valid_loss: 149.50947623417295<<<<\n",
      "-------------- epoch: 4 ----------------\n",
      "     batch: 20, batch_loss: 120.56298828125     \n",
      "     batch: 40, batch_loss: 121.12125396728516     \n",
      ">>>> Epoch: 4, train_loss: 120.89445377218313, valid_loss: 148.69866680276806<<<<\n",
      "-------------- logvar tunning --------------\n",
      "-------------- epoch: 0 ----------------\n",
      "     batch: 20, batch_loss: 87.2723617553711     \n",
      "     batch: 40, batch_loss: 27.56159782409668     \n",
      ">>>> Epoch: 0, train_loss: 54.47258488885288, valid_loss: 61.96663010120392<<<<\n",
      "-------------- epoch: 1 ----------------\n",
      "     batch: 20, batch_loss: -7.6219987869262695     \n",
      "     batch: 40, batch_loss: -3.8935165405273438     \n",
      ">>>> Epoch: 1, train_loss: 17.453288853425406, valid_loss: 454.9262832855356<<<<\n",
      "-------------- epoch: 2 ----------------\n",
      "     batch: 20, batch_loss: -7.574902534484863     \n",
      "     batch: 40, batch_loss: -45.232051849365234     \n",
      ">>>> Epoch: 2, train_loss: -19.95184038425314, valid_loss: 330.904910322921<<<<\n",
      "-------------- epoch: 3 ----------------\n",
      "     batch: 20, batch_loss: -34.775787353515625     \n",
      "     batch: 40, batch_loss: -36.14888381958008     \n",
      ">>>> Epoch: 3, train_loss: -29.492804001117573, valid_loss: 114.43504439654022<<<<\n",
      "-------------- epoch: 4 ----------------\n",
      "     batch: 20, batch_loss: -29.519977569580078     \n",
      "     batch: 40, batch_loss: -20.35371971130371     \n",
      ">>>> Epoch: 4, train_loss: -31.782138923118854, valid_loss: 53.79053131876321<<<<\n",
      "-------------- epoch: 5 ----------------\n",
      "     batch: 20, batch_loss: -36.37459945678711     \n",
      "     batch: 40, batch_loss: -19.823265075683594     \n",
      ">>>> Epoch: 5, train_loss: -33.887673963760506, valid_loss: 47.703116518670114<<<<\n",
      "-------------- epoch: 6 ----------------\n",
      "     batch: 20, batch_loss: -40.824615478515625     \n",
      "     batch: 40, batch_loss: -40.410064697265625     \n",
      ">>>> Epoch: 6, train_loss: -35.134147545387, valid_loss: 40.24546763403662<<<<\n"
     ]
    }
   ],
   "source": [
    "import torch\n",
    "import numpy as np\n",
    "\n",
    "from torch.utils.data import Dataset, DataLoader\n",
    "import matplotlib.pyplot as plt\n",
    "from bae_ensemble import BAE_Ensemble\n",
    "M = 20\n",
    "config.batch_size = 16\n",
    "bae_ens = BAE_Ensemble(M, AutoEncoder, config)\n",
    "bae_ens.toDevice(config.device)\n",
    "\n",
    "\n",
    "config.n_epochs = 5\n",
    "def valid(data_loader):\n",
    "    bae_ens.eval()\n",
    "    total_loss = []\n",
    "    with torch.no_grad():\n",
    "        for i, x in enumerate(data_loader):\n",
    "            x = x.view(config.batch_size, config.in_channel, -1)\n",
    "            x = x.to(config.device)\n",
    "            loss = bae_ens.fit(x)\n",
    "            total_loss.append(loss.item())\n",
    "    return np.average(total_loss)\n",
    "\n",
    "\n",
    "def train(data_loader, bae_ens, config, tunning=False):\n",
    "    bae_ens.train()\n",
    "    for epoch in range(config.n_epochs):\n",
    "        print(f\"-------------- epoch: {epoch} ----------------\")\n",
    "        total_loss = []\n",
    "        for i, x in enumerate(data_loader):\n",
    "            bae_ens.zero_optimizers()\n",
    "            x = x.view(config.batch_size, config.in_channel, -1) \n",
    "            x = x.to(config.device)\n",
    "            x.requires_grad = False\n",
    "            loss = bae_ens.fit(x)\n",
    "            total_loss.append(loss.item())\n",
    "            if (i + 1) % 20 == 0:\n",
    "                print(f\"     batch: {i + 1}, batch_loss: {loss.item()}     \")\n",
    "            loss.backward()\n",
    "            bae_ens.step_optimizers()\n",
    "        if tunning:\n",
    "            bae_ens.adjust_lr(epoch)\n",
    "        train_loss = np.average(total_loss)\n",
    "        valid_loss = valid(test_syn_dataloader)\n",
    "        print(f\">>>> Epoch: {epoch}, train_loss: {train_loss}, valid_loss: {valid_loss}<<<<\")\n",
    "    \n",
    "test = y_tildes_test\n",
    "training = y_tildes\n",
    "\n",
    "train_syn_dataset = AESegLoader(training, config.win_size, \"train\")\n",
    "train_syn_dataloader =  DataLoader(\n",
    "    dataset = train_syn_dataset, \n",
    "    batch_size = config.batch_size,\n",
    "    shuffle=True,\n",
    "    drop_last=True,\n",
    ")\n",
    "\n",
    "test_syn_dataset = AESegLoader(test, config.win_size, \"test\")\n",
    "test_syn_dataloader =  DataLoader(\n",
    "    dataset = test_syn_dataset, \n",
    "    batch_size = config.batch_size,\n",
    "    shuffle=True,\n",
    "    drop_last=True,\n",
    ")\n",
    "\n",
    "# heter \n",
    "\n",
    "train(train_syn_dataloader, bae_ens, config)\n",
    "print(\"-------------- var tunning --------------\")\n",
    "bae_ens.set_loss_type('rnll')  \n",
    "config.n_epochs = 7\n",
    "bae_ens.tunning_var(1e-4)\n",
    "\n",
    "train(train_syn_dataloader, bae_ens, config)\n"
   ]
  },
  {
   "cell_type": "code",
   "execution_count": 12,
   "metadata": {},
   "outputs": [
    {
     "data": {
      "image/png": "[encoded data removed]",
      "text/plain": [
       "<Figure size 400x200 with 1 Axes>"
      ]
     },
     "metadata": {},
     "output_type": "display_data"
    }
   ],
   "source": [
    "test = y_tildes_test\n",
    "training = y_tildes\n",
    "fig, axs = plt.subplots(nrows=1, ncols=1, figsize=(4, 2))\n",
    "axs.plot(test.flatten(), label='True Signal', alpha=0.5, color='black')\n",
    "# axs[0].plot(ys , label='clean signal')\n",
    "axs.legend()\n",
    "# axs.grid()\n",
    "axs.set_xlabel(\"Time\")\n",
    "axs.set_ylabel(\"Value\")\n",
    "# axs.set_ylim(-2, 6)\n",
    "# plt.savefig(\"toy_example_30.png\", bbox_inches='tight', dpi=300)\n",
    "plt.show() "
   ]
  },
  {
   "cell_type": "markdown",
   "metadata": {},
   "source": [
    "3. Predict aleatoric uncertainty and Plot result"
   ]
  },
  {
   "cell_type": "code",
   "execution_count": null,
   "metadata": {},
   "outputs": [
    {
     "data": {
      "image/png": "[encoded data removed]",
      "text/plain": [
       "<Figure size 400x200 with 1 Axes>"
      ]
     },
     "metadata": {},
     "output_type": "display_data"
    }
   ],
   "source": [
    "\n",
    "from dataloader import AEReconLoader\n",
    "\n",
    "test_recons_dataset = AEReconLoader(test, config.win_size, \"test\")\n",
    "\n",
    "batch_size = 1\n",
    "test_recons_dataloader =  DataLoader(\n",
    "    dataset = test_recons_dataset, \n",
    "    batch_size = batch_size,\n",
    "    shuffle=False,\n",
    "    drop_last=True,\n",
    ")\n",
    "\n",
    "\n",
    "recstructed_signal = []\n",
    "approx_var_heter = []\n",
    "\n",
    "bae_ens.eval()\n",
    "\n",
    "for i, x in enumerate(test_recons_dataloader):\n",
    "    x = x.view(batch_size, config.in_channel, -1)\n",
    "    x = x.to(config.device)\n",
    "    prediction, var = bae_ens.predict_mean_var(x)\n",
    "\n",
    "    recstructed_signal.extend(prediction.detach().cpu().numpy().flatten())\n",
    "    approx_var_heter.extend(var.detach().cpu().numpy().flatten())\n",
    "\n",
    "recstructed_signal = np.array(recstructed_signal)\n",
    "approx_var_heter = np.array(approx_var_heter)\n",
    "true_var_heter = ((generator.get_y_std(data['y_disturb']) / scaler.scale_)**2).detach().numpy().flatten()\n",
    "\n",
    "fig, axs = plt.subplots(nrows=1, ncols=1, figsize=(4, 2))\n",
    "axs.plot(true_var_heter, label='True Aleatoric')\n",
    "axs.plot(approx_var_heter, label='Predicted Aleatoric', alpha=0.5)\n",
    "# axs.grid()\n",
    "# axs.set_ylim(0, 1)\n",
    "axs.legend()\n",
    "axs.set_xlabel(\"Time\", fontsize=9)\n",
    "axs.set_ylabel(\"Aleatoric\", fontsize=10)\n",
    "# plt.savefig(\"result_4_28/anomaly_40_nll.png\",bbox_inches='tight', dpi=300)\n",
    "plt.show() \n",
    "\n"
   ]
  }
 ],
 "metadata": {
  "kernelspec": {
   "display_name": ".uatsad",
   "language": "python",
   "name": "python3"
  },
  "language_info": {
   "codemirror_mode": {
    "name": "ipython",
    "version": 3
   },
   "file_extension": ".py",
   "mimetype": "text/x-python",
   "name": "python",
   "nbconvert_exporter": "python",
   "pygments_lexer": "ipython3",
   "version": "3.10.12"
  }
 },
 "nbformat": 4,
 "nbformat_minor": 2
}
