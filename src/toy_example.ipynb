{
 "cells": [
  {
   "cell_type": "markdown",
   "metadata": {},
   "source": [
    "## UATSAD: Toy Example Visualization \n",
    "In this notebook we will:\n",
    "- Getting Data\n",
    "- Training and Test\n",
    "- Predict and Plot"
   ]
  },
  {
   "cell_type": "code",
   "execution_count": 22,
   "metadata": {},
   "outputs": [
    {
     "name": "stdout",
     "output_type": "stream",
     "text": [
      "The autoreload extension is already loaded. To reload it, use:\n",
      "  %reload_ext autoreload\n"
     ]
    }
   ],
   "source": [
    "%load_ext autoreload\n",
    "%autoreload 2"
   ]
  },
  {
   "cell_type": "code",
   "execution_count": 151,
   "metadata": {},
   "outputs": [],
   "source": [
    "# Configure \n",
    "\n",
    "import torch\n",
    "from sklearn.preprocessing import MinMaxScaler, StandardScaler\n",
    "from model import AutoEncoder\n",
    "from dataloader import AESegLoader\n",
    "\n",
    "\n",
    "class Config:\n",
    "    # model\n",
    "    in_channel = 1\n",
    "    win_size = 64\n",
    "    latent_dim = 10\n",
    "    hidden_num_units = 64\n",
    "\n",
    "    n_epochs = 15\n",
    "    lr = 1e-3\n",
    "    batch_size = 16\n",
    "    device = torch.device('cuda' if torch.cuda.is_available() else 'cpu')\n",
    "\n",
    "config = Config()\n",
    "\n"
   ]
  },
  {
   "cell_type": "markdown",
   "metadata": {},
   "source": [
    "1. Get the data of different anomalies:\n",
    "- anomaly value = 10\n",
    "- anomaly value = 20\n",
    "- anomaly value = 30"
   ]
  },
  {
   "cell_type": "code",
   "execution_count": 41,
   "metadata": {},
   "outputs": [
    {
     "name": "stdout",
     "output_type": "stream",
     "text": [
      "(1000, 1)\n"
     ]
    }
   ],
   "source": [
    "\n",
    "import matplotlib.pyplot as plt\n",
    "import utils\n",
    "\n",
    "generator = utils.Synthetic_heteroscedasticData_generator(0.7, 2, 5, 10)\n",
    "\n",
    "data = generator.get_data(1000)\n",
    "\n",
    "y_tildes = data['y_tilde'].clone().detach()\n",
    "y_tildes_test = data['y_disturb_tilde'].clone().detach()\n",
    "\n",
    "scaler = StandardScaler()\n",
    "scaler.fit(y_tildes)\n",
    "y_tildes = scaler.transform(y_tildes)\n",
    "y_tildes_test = scaler.transform(y_tildes_test)\n",
    "ys = data['y'].clone().detach()\n",
    "\n",
    "print(y_tildes.shape)\n"
   ]
  },
  {
   "cell_type": "code",
   "execution_count": 10,
   "metadata": {},
   "outputs": [
    {
     "name": "stdout",
     "output_type": "stream",
     "text": [
      "(1000, 1)\n"
     ]
    }
   ],
   "source": [
    "\n",
    "import matplotlib.pyplot as plt\n",
    "import utils\n",
    "\n",
    "generator = utils.Synthetic_heteroscedasticData_generator(0.7, 2, 5, 20)\n",
    "data = generator.get_data(1000)\n",
    "\n",
    "y_tildes = data['y_tilde'].clone().detach()\n",
    "y_tildes_test = data['y_disturb_tilde'].clone().detach()\n",
    "\n",
    "scaler = StandardScaler()\n",
    "scaler.fit(y_tildes)\n",
    "y_tildes = scaler.transform(y_tildes)\n",
    "y_tildes_test = scaler.transform(y_tildes_test)\n",
    "ys = data['y'].clone().detach()\n",
    "\n",
    "print(y_tildes.shape)\n"
   ]
  },
  {
   "cell_type": "code",
   "execution_count": 152,
   "metadata": {},
   "outputs": [
    {
     "name": "stdout",
     "output_type": "stream",
     "text": [
      "(1000, 1)\n"
     ]
    }
   ],
   "source": [
    "\n",
    "import matplotlib.pyplot as plt\n",
    "import utils\n",
    "\n",
    "generator = utils.Synthetic_heteroscedasticData_generator(1, 2, 5, 30)\n",
    "data = generator.get_data(1000)\n",
    "\n",
    "y_tildes = data['y_tilde'].clone().detach()\n",
    "y_tildes_test = data['y_disturb_tilde'].clone().detach()\n",
    "\n",
    "scaler = StandardScaler()\n",
    "scaler.fit(y_tildes)\n",
    "y_tildes = scaler.transform(y_tildes)\n",
    "y_tildes_test = scaler.transform(y_tildes_test)\n",
    "ys = data['y'].clone().detach()\n",
    "\n",
    "print(y_tildes.shape)\n"
   ]
  },
  {
   "cell_type": "markdown",
   "metadata": {},
   "source": [
    "2. Training"
   ]
  },
  {
   "cell_type": "code",
   "execution_count": 153,
   "metadata": {},
   "outputs": [
    {
     "name": "stdout",
     "output_type": "stream",
     "text": [
      "-------------- epoch: 0 ----------------\n",
      "     batch: 20, batch_loss: 162.21299743652344     \n",
      "     batch: 40, batch_loss: 128.1277313232422     \n",
      ">>>> Epoch: 0, train_loss: 149.6497819834742, valid_loss: 156.37564494692046<<<<\n",
      "-------------- epoch: 1 ----------------\n",
      "     batch: 20, batch_loss: 123.9394760131836     \n",
      "     batch: 40, batch_loss: 124.9635009765625     \n",
      ">>>> Epoch: 1, train_loss: 124.26339550676018, valid_loss: 155.26042227909483<<<<\n",
      "-------------- epoch: 2 ----------------\n",
      "     batch: 20, batch_loss: 121.59395599365234     \n",
      "     batch: 40, batch_loss: 123.06291961669922     \n",
      ">>>> Epoch: 2, train_loss: 123.94317982114595, valid_loss: 154.54766161688443<<<<\n",
      "-------------- epoch: 3 ----------------\n",
      "     batch: 20, batch_loss: 124.3663101196289     \n",
      "     batch: 40, batch_loss: 123.9029769897461     \n",
      ">>>> Epoch: 3, train_loss: 123.87127882858803, valid_loss: 154.42571745247676<<<<\n",
      "-------------- epoch: 4 ----------------\n",
      "     batch: 20, batch_loss: 124.38365936279297     \n",
      "     batch: 40, batch_loss: 121.592041015625     \n",
      ">>>> Epoch: 4, train_loss: 123.81745660716089, valid_loss: 154.16439372095567<<<<\n",
      "-------------- var tunning --------------\n",
      "-------------- epoch: 0 ----------------\n",
      "     batch: 20, batch_loss: 81.7227554321289     \n",
      "     batch: 40, batch_loss: 46.04677200317383     \n",
      ">>>> Epoch: 0, train_loss: 70.28193118654448, valid_loss: 89.96286254093565<<<<\n",
      "-------------- epoch: 1 ----------------\n",
      "     batch: 20, batch_loss: 62.469879150390625     \n",
      "     batch: 40, batch_loss: 19.1120662689209     \n",
      ">>>> Epoch: 1, train_loss: 39.14194076636742, valid_loss: 595.7573866022044<<<<\n",
      "-------------- epoch: 2 ----------------\n",
      "     batch: 20, batch_loss: 31.44209098815918     \n",
      "     batch: 40, batch_loss: 19.13344383239746     \n",
      ">>>> Epoch: 2, train_loss: 20.31176420660882, valid_loss: 168.01545095854792<<<<\n",
      "-------------- epoch: 3 ----------------\n",
      "     batch: 20, batch_loss: 35.22286605834961     \n",
      "     batch: 40, batch_loss: 33.35393142700195     \n",
      ">>>> Epoch: 3, train_loss: 17.41032530315991, valid_loss: 124.96446230493743<<<<\n",
      "-------------- epoch: 4 ----------------\n",
      "     batch: 20, batch_loss: 7.279567241668701     \n",
      "     batch: 40, batch_loss: 8.376843452453613     \n",
      ">>>> Epoch: 4, train_loss: 15.858327513624882, valid_loss: 110.2828234886301<<<<\n",
      "-------------- epoch: 5 ----------------\n",
      "     batch: 20, batch_loss: 1.7326854467391968     \n",
      "     batch: 40, batch_loss: 16.569053649902344     \n",
      ">>>> Epoch: 5, train_loss: 14.816125131886581, valid_loss: 104.5522564526262<<<<\n",
      "-------------- epoch: 6 ----------------\n",
      "     batch: 20, batch_loss: 11.456171989440918     \n",
      "     batch: 40, batch_loss: 19.573881149291992     \n",
      ">>>> Epoch: 6, train_loss: 14.05354564534179, valid_loss: 107.51147435040309<<<<\n",
      "-------------- epoch: 7 ----------------\n",
      "     batch: 20, batch_loss: 27.956506729125977     \n",
      "     batch: 40, batch_loss: -8.144342422485352     \n",
      ">>>> Epoch: 7, train_loss: 13.46729555982968, valid_loss: 110.13143170702047<<<<\n",
      "-------------- epoch: 8 ----------------\n",
      "     batch: 20, batch_loss: 17.90618896484375     \n",
      "     batch: 40, batch_loss: 20.03240394592285     \n",
      ">>>> Epoch: 8, train_loss: 12.69612739363621, valid_loss: 105.68997979986257<<<<\n",
      "-------------- epoch: 9 ----------------\n",
      "     batch: 20, batch_loss: 9.799842834472656     \n",
      "     batch: 40, batch_loss: 15.83078670501709     \n",
      ">>>> Epoch: 9, train_loss: 12.200708062484347, valid_loss: 105.74375206116459<<<<\n",
      "-------------- epoch: 10 ----------------\n",
      "     batch: 20, batch_loss: 20.535131454467773     \n",
      "     batch: 40, batch_loss: 13.538100242614746     \n",
      ">>>> Epoch: 10, train_loss: 11.735828464915013, valid_loss: 107.20092303177407<<<<\n",
      "-------------- epoch: 11 ----------------\n",
      "     batch: 20, batch_loss: 30.43155288696289     \n",
      "     batch: 40, batch_loss: 2.4069836139678955     \n",
      ">>>> Epoch: 11, train_loss: 11.20814802523317, valid_loss: 98.04894755626547<<<<\n",
      "-------------- epoch: 12 ----------------\n",
      "     batch: 20, batch_loss: 11.841490745544434     \n",
      "     batch: 40, batch_loss: 2.0852344036102295     \n",
      ">>>> Epoch: 12, train_loss: 10.560735258048979, valid_loss: 95.00443080375935<<<<\n",
      "-------------- epoch: 13 ----------------\n",
      "     batch: 20, batch_loss: 6.512734889984131     \n",
      "     batch: 40, batch_loss: 9.99053955078125     \n",
      ">>>> Epoch: 13, train_loss: 10.100489759239657, valid_loss: 100.91750144958496<<<<\n",
      "-------------- epoch: 14 ----------------\n",
      "     batch: 20, batch_loss: 3.5309319496154785     \n",
      "     batch: 40, batch_loss: 18.937158584594727     \n",
      ">>>> Epoch: 14, train_loss: 9.601303849754663, valid_loss: 100.4892179719333<<<<\n"
     ]
    }
   ],
   "source": [
    "import torch\n",
    "import numpy as np\n",
    "\n",
    "from torch.utils.data import Dataset, DataLoader\n",
    "import matplotlib.pyplot as plt\n",
    "from bae_ensemble import BAE_Ensemble\n",
    "M = 20\n",
    "bae_ens = BAE_Ensemble(M, AutoEncoder, config)\n",
    "bae_ens.toDevice(config.device)\n",
    "\n",
    "\n",
    "config.n_epochs = 5\n",
    "def valid(data_loader):\n",
    "    bae_ens.eval()\n",
    "    total_loss = []\n",
    "    with torch.no_grad():\n",
    "        for i, x in enumerate(data_loader):\n",
    "            x = x.view(config.batch_size, config.in_channel, -1)\n",
    "            x = x.to(config.device)\n",
    "            loss = bae_ens.fit(x)\n",
    "            total_loss.append(loss.item())\n",
    "    return np.average(total_loss)\n",
    "\n",
    "\n",
    "def train(data_loader, bae_ens, config, tunning=False):\n",
    "    bae_ens.train()\n",
    "    for epoch in range(config.n_epochs):\n",
    "        print(f\"-------------- epoch: {epoch} ----------------\")\n",
    "        total_loss = []\n",
    "        for i, x in enumerate(data_loader):\n",
    "            bae_ens.zero_optimizers()\n",
    "            x = x.view(config.batch_size, config.in_channel, -1) \n",
    "            x = x.to(config.device)\n",
    "            x.requires_grad = False\n",
    "            loss = bae_ens.fit(x)\n",
    "            total_loss.append(loss.item())\n",
    "            if (i + 1) % 20 == 0:\n",
    "                print(f\"     batch: {i + 1}, batch_loss: {loss.item()}     \")\n",
    "            loss.backward()\n",
    "            bae_ens.step_optimizers()\n",
    "        if tunning:\n",
    "            bae_ens.adjust_lr(epoch)\n",
    "        train_loss = np.average(total_loss)\n",
    "        valid_loss = valid(test_syn_dataloader)\n",
    "        print(f\">>>> Epoch: {epoch}, train_loss: {train_loss}, valid_loss: {valid_loss}<<<<\")\n",
    "    \n",
    "test = y_tildes_test\n",
    "training = y_tildes\n",
    "\n",
    "train_syn_dataset = AESegLoader(training, config.win_size, \"train\")\n",
    "train_syn_dataloader =  DataLoader(\n",
    "    dataset = train_syn_dataset, \n",
    "    batch_size = config.batch_size,\n",
    "    shuffle=True,\n",
    "    drop_last=True,\n",
    ")\n",
    "\n",
    "test_syn_dataset = AESegLoader(test, config.win_size, \"test\")\n",
    "test_syn_dataloader =  DataLoader(\n",
    "    dataset = test_syn_dataset, \n",
    "    batch_size = config.batch_size,\n",
    "    shuffle=True,\n",
    "    drop_last=True,\n",
    ")\n",
    "\n",
    "# heter \n",
    "\n",
    "train(train_syn_dataloader, bae_ens, config)\n",
    "print(\"-------------- var tunning --------------\")\n",
    "bae_ens.set_loss_type('nll')  \n",
    "bae_ens.set_rnll_hyper(3, 3)\n",
    "config.n_epochs = 15\n",
    "bae_ens.tunning_var(1e-4)\n",
    "\n",
    "train(train_syn_dataloader, bae_ens, config)\n"
   ]
  },
  {
   "cell_type": "code",
   "execution_count": 149,
   "metadata": {},
   "outputs": [
    {
     "data": {
      "image/png": "[encoded data removed]",
      "text/plain": [
       "<Figure size 400x200 with 1 Axes>"
      ]
     },
     "metadata": {},
     "output_type": "display_data"
    }
   ],
   "source": [
    "test = y_tildes_test\n",
    "training = y_tildes\n",
    "fig, axs = plt.subplots(nrows=1, ncols=1, figsize=(4, 2))\n",
    "axs.plot(test.flatten(), label='True Signal', alpha=0.5, color='black')\n",
    "# axs[0].plot(ys , label='clean signal')\n",
    "axs.legend()\n",
    "# axs.grid()\n",
    "axs.set_xlabel(\"Time\")\n",
    "axs.set_ylabel(\"Value\")\n",
    "# axs.set_ylim(-2, 6)\n",
    "# plt.savefig(\"toy_example_30.png\", bbox_inches='tight', dpi=300)\n",
    "plt.show() "
   ]
  },
  {
   "cell_type": "markdown",
   "metadata": {},
   "source": [
    "3. Predict aleatoric uncertainty and Plot result"
   ]
  },
  {
   "cell_type": "code",
   "execution_count": 154,
   "metadata": {},
   "outputs": [
    {
     "data": {
      "image/png": "[encoded data removed]",
      "text/plain": [
       "<Figure size 400x200 with 1 Axes>"
      ]
     },
     "metadata": {},
     "output_type": "display_data"
    }
   ],
   "source": [
    "\n",
    "from dataloader import AEReconLoader\n",
    "\n",
    "test_recons_dataset = AEReconLoader(test, config.win_size, \"test\")\n",
    "\n",
    "batch_size = 1\n",
    "test_recons_dataloader =  DataLoader(\n",
    "    dataset = test_recons_dataset, \n",
    "    batch_size = batch_size,\n",
    "    shuffle=False,\n",
    "    drop_last=True,\n",
    ")\n",
    "\n",
    "\n",
    "recstructed_signal = []\n",
    "approx_var_heter = []\n",
    "\n",
    "bae_ens.eval()\n",
    "\n",
    "for i, x in enumerate(test_recons_dataloader):\n",
    "    x = x.view(batch_size, config.in_channel, -1)\n",
    "    x = x.to(config.device)\n",
    "    prediction, var = bae_ens.predict_mean_var(x)\n",
    "\n",
    "    recstructed_signal.extend(prediction.detach().cpu().numpy().flatten())\n",
    "    approx_var_heter.extend(var.detach().cpu().numpy().flatten())\n",
    "\n",
    "recstructed_signal = np.array(recstructed_signal)\n",
    "approx_var_heter = np.array(approx_var_heter)\n",
    "true_var_heter = ((generator.get_y_std(data['y_disturb']) / scaler.scale_)**2).detach().numpy().flatten()\n",
    "\n",
    "fig, axs = plt.subplots(nrows=1, ncols=1, figsize=(4, 2))\n",
    "axs.plot(true_var_heter, label='True Aleatoric')\n",
    "axs.plot(approx_var_heter, label='Predicted Aleatoric', alpha=0.5)\n",
    "# axs.grid()\n",
    "# axs.set_ylim(0, 1)\n",
    "axs.legend()\n",
    "axs.set_xlabel(\"Time\", fontsize=9)\n",
    "axs.set_ylabel(\"Aleatoric\", fontsize=10)\n",
    "# plt.savefig(\"result_4_28/anomaly_40_nll.png\",bbox_inches='tight', dpi=300)\n",
    "plt.show() \n",
    "\n"
   ]
  },
  {
   "cell_type": "code",
   "execution_count": 161,
   "metadata": {},
   "outputs": [
    {
     "name": "stdout",
     "output_type": "stream",
     "text": [
      "../result/toy_example/alea_0.707_anomaly_30.0_lambda1_2_lambda2_1.csv\n",
      "../result/toy_example/alea_1.414_anomaly_30.0_lambda1_2_lambda2_1.csv\n",
      "../result/toy_example/alea_1.0_anomaly_30.0_lambda1_2_lambda2_1.csv\n",
      "(3, 4)\n",
      "(3, 4)\n",
      "[[0.01313766 0.00883992 0.00948546 0.00992342]\n",
      " [0.01763416 0.0148738  0.01767947 0.02063601]\n",
      " [0.0111045  0.00716081 0.00785651 0.01045323]]\n",
      "[[0.0109117  0.00762276 0.00670812 0.0056769 ]\n",
      " [0.00737686 0.00471942 0.00583288 0.00533939]\n",
      " [0.0032777  0.00094975 0.00312035 0.00439555]]\n"
     ]
    }
   ],
   "source": [
    "import glob\n",
    "import pandas as pd\n",
    "import numpy as np\n",
    "import os\n",
    "anomaly_value = 30.0\n",
    "files = glob.glob(f\"../result/toy_example/*_anomaly_{anomaly_value}*.csv\")\n",
    "mse_mean = []\n",
    "mse_std = []\n",
    "for file in files:\n",
    "    df = pd.read_csv(file)\n",
    "    print(file)\n",
    "    mse_mean.append((df['nll'].values.mean(), df['rnll'].values.mean(), df['beta_nll'].values.mean(), df['mts_nll'].values.mean()))\n",
    "    mse_std.append((df['nll'].values.std(), df['rnll'].values.std(), df['beta_nll'].values.std(), df['mts_nll'].values.std()))\n",
    "mse_mean = np.array(mse_mean)\n",
    "mse_std = np.array(mse_std)\n",
    "print(mse_mean.shape)\n",
    "print(mse_std.shape)\n",
    "print(mse_mean)\n",
    "print(mse_std)"
   ]
  }
 ],
 "metadata": {
  "kernelspec": {
   "display_name": ".uatsad",
   "language": "python",
   "name": "python3"
  },
  "language_info": {
   "codemirror_mode": {
    "name": "ipython",
    "version": 3
   },
   "file_extension": ".py",
   "mimetype": "text/x-python",
   "name": "python",
   "nbconvert_exporter": "python",
   "pygments_lexer": "ipython3",
   "version": "3.10.12"
  }
 },
 "nbformat": 4,
 "nbformat_minor": 2
}
